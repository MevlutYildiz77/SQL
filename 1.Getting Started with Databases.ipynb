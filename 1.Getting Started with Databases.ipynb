{
 "cells": [
  {
   "cell_type": "markdown",
   "id": "cb935938",
   "metadata": {},
   "source": [
    "# What is a database?"
   ]
  },
  {
   "cell_type": "markdown",
   "id": "72e945aa",
   "metadata": {},
   "source": [
    "*******a database is a collection of data stored in a computer system.*****"
   ]
  },
  {
   "cell_type": "code",
   "execution_count": null,
   "id": "0d7e78da",
   "metadata": {},
   "outputs": [],
   "source": [
    "According to Wikipedia:\n",
    "A database is an organized collection of data, generally stored and accessed electronically from a computer system.\n",
    "\n",
    "According to Oracle:\n",
    "A database is an organized collection of structured information, or data, typically stored electronically in a computer system."
   ]
  },
  {
   "cell_type": "code",
   "execution_count": null,
   "id": "2a1219a9",
   "metadata": {},
   "outputs": [],
   "source": [
    "A database is typically controlled by a database management system (DBMS). "
   ]
  },
  {
   "cell_type": "markdown",
   "id": "f5704c18",
   "metadata": {},
   "source": [
    "Q: What is a Database?\n",
    "A: ***A database is an organized collection of data, generally stored and accessed electronically from a computer system.*** In simple terms, ***a database is a collection of data stored in a computer system.*** When you order a product on a commercial website, your order is stored in a database. You withdrew money from your bank account. Your bank stores this transaction in the database. Social media platforms such as Facebook, Instagram, Twitter use databases to store data like members, their friends, member activities, messages, advertisements, etc."
   ]
  },
  {
   "cell_type": "markdown",
   "id": "991180c8",
   "metadata": {},
   "source": [
    "# DBMS EXAMPLES"
   ]
  },
  {
   "cell_type": "markdown",
   "id": "273e0808",
   "metadata": {},
   "source": [
    "# relational Database:\n",
    "Oracle DAtabase,\n",
    "Microsoft SQL Server,\n",
    "Postgre SQL,\n",
    "TERADATA,\n",
    "IBMDB2,\n",
    "MySQL,\n",
    "SYBASE,\n",
    "Access,\n",
    "***SQLite,*** >> C language library\n",
    "Hyper SQL,\n",
    "# Non-relational Database:\n",
    "Crospike,\n",
    "Cassandra,\n",
    "Clustrix,\n",
    "Couchbase,\n",
    "Amazon DynamoDB,\n",
    "Apache HBASE,\n",
    "IBM,\n",
    "Mark Logic,\n",
    "memsql,\n",
    "MongoDB,\n",
    "nuoDB,\n",
    "Oracle NOSQL DATABASE,\n",
    "Riak,\n",
    "splice Machine,\n",
    "TransAttice,\n",
    "VoltDB"
   ]
  },
  {
   "cell_type": "markdown",
   "id": "daa3d6c8",
   "metadata": {},
   "source": [
    "# What is in a database?"
   ]
  },
  {
   "cell_type": "markdown",
   "id": "9f8fb992",
   "metadata": {},
   "source": [
    "***The information inside the database is grouped into tables. A table in a database is called a database table. Tables are the basic unit of data storage in databases. We used the term structured data. Structured data here means table. A table consists of columns and rows.*** You may think of it as an Excel or Google spreadsheet. Although there are similarities between the database table and Excel/Google spreadsheet, they are different things."
   ]
  },
  {
   "cell_type": "markdown",
   "id": "9d0c632a",
   "metadata": {},
   "source": [
    "# Anatomy of a Table"
   ]
  },
  {
   "cell_type": "markdown",
   "id": "3a188e03",
   "metadata": {},
   "source": [
    "A table is made up of columns and rows. A column is a piece of data stored by the table. A row is a single set of columns that describe the attributes of a single thing. Columns should have a unique name. Columns and rows together make up a table. "
   ]
  },
  {
   "cell_type": "code",
   "execution_count": null,
   "id": "e31a5d40",
   "metadata": {},
   "outputs": [],
   "source": [
    "Tips:\n",
    "In database world;\n",
    "A ***column*** is also called a ***field or attribute,***\n",
    "A ***row*** is also called a ***record or a tuple***,\n",
    "A ***table*** is also called a ***relation.***"
   ]
  },
  {
   "cell_type": "markdown",
   "id": "84a01098",
   "metadata": {},
   "source": [
    "Column header names are written in lowercase, and there shouldn't be any space in a single name. Put an underscore between them. For instance, don't write \"last name\" as a header name, instead, write \"last_name\". Table names are also written in lowercase and without space (employees, customers, etc.)"
   ]
  },
  {
   "cell_type": "markdown",
   "id": "b539f5ce",
   "metadata": {},
   "source": [
    "Q: What is a table, column and row?\n",
    "A: A table is an organized collection of data stored in the form of columns and rows. Columns can be categorized as vertical and rows as horizontal. The columns in a table are called fields while the rows can be referred to as records."
   ]
  },
  {
   "cell_type": "markdown",
   "id": "e471ae8c",
   "metadata": {},
   "source": [
    "# Type of Databases"
   ]
  },
  {
   "cell_type": "code",
   "execution_count": null,
   "id": "1b986b83",
   "metadata": {},
   "outputs": [],
   "source": [
    "Typically, there are two main database storage types:\n",
    "\n",
    "Relational Database - SQL\n",
    "\n",
    "Non-Relational Database - NoSQL"
   ]
  },
  {
   "cell_type": "markdown",
   "id": "85736e43",
   "metadata": {},
   "source": [
    "# Relational Database - SQL"
   ]
  },
  {
   "cell_type": "markdown",
   "id": "d2a619b6",
   "metadata": {},
   "source": [
    "A relational database is a type of database that stores and provides access to data points that are related to one another. Relational databases are based on the relational model, an intuitive, straightforward way of representing data in tables. In a relational database, each row in the table is a record with a unique ID called the key. The columns of the table hold attributes of the data, and each record usually has a value for each attribute, making it easy to establish the relationships among data points."
   ]
  },
  {
   "cell_type": "markdown",
   "id": "5a6f6eeb",
   "metadata": {},
   "source": [
    "\"relational database\" was invented by E. F. Codd at IBM in 1970. Codd introduced the term in his research paper \"A Relational Model of Data for Large Shared Data Banks\""
   ]
  },
  {
   "cell_type": "markdown",
   "id": "7b977209",
   "metadata": {},
   "source": [
    "***A software system used to maintain relational databases is called a Relational Database Management System (RDBMS).  Here are some examples of RDBMS:\n",
    "\n",
    "***Amazon Aurora\n",
    "Amazon RDS\n",
    "Microsoft SQL Server \n",
    "Oracle Database\n",
    "MySQL\n",
    "IBM DB2\n",
    "Maria DB\n",
    "PostgreSQL\n",
    "SQLite***"
   ]
  },
  {
   "cell_type": "markdown",
   "id": "ee5138a2",
   "metadata": {},
   "source": [
    "***SQL (stands for Structured Query Language) is accepted as the standard Relational Database Management System (RDBMS) language.***"
   ]
  },
  {
   "cell_type": "markdown",
   "id": "8df33d70",
   "metadata": {},
   "source": [
    "***we usually prefer to call Relational Database as SQL and Non-Relational database as NoSQL. ***"
   ]
  },
  {
   "cell_type": "markdown",
   "id": "bc84221c",
   "metadata": {},
   "source": [
    "Tips:\n",
    "***SQLite is a relational database management system contained in a C library.*** \n",
    "***In contrast to many other database management systems, SQLite is not a client–server database engine. Rather, it is embedded into the end program. (Wikipedia)***"
   ]
  },
  {
   "cell_type": "markdown",
   "id": "884fa3c2",
   "metadata": {},
   "source": [
    "# Structured Query Language (SQL)"
   ]
  },
  {
   "cell_type": "markdown",
   "id": "1ff10bdc",
   "metadata": {},
   "source": [
    "SQL stands for Structured Query Language and used to communicate with relational databases. ***SQL is a declarative language, not a procedural language.*** You write a single SQL declaration and hand it to the DBMS. The DBMS then executes internal code, which is hidden from us. SQL is **used to communicate with a database.** With SQL, you can **access or manipulate data stored in the database.**"
   ]
  },
  {
   "cell_type": "markdown",
   "id": "9a479efb",
   "metadata": {},
   "source": [
    "Tips:\n",
    "Declarative paradigm is where you say what you want without having to say how to do it. ***With procedural paradigm (used in JAVA, C), you have to specify exact steps to get the result. SQL is declarative than procedural since the queries don't specify steps to produce the result.***\n",
    "***SQL in it's purest form is not a programming language, but a query language. Because, it needs to be able to perform loops and control structures. However, with some extensions, SQL can have looping and control structures but they exist outside or rather as an appendage to the original SQL spec. In this manner, some argue that SQL is a programming language.***"
   ]
  },
  {
   "cell_type": "markdown",
   "id": "14445075",
   "metadata": {},
   "source": [
    "***There are different types of access. These are:\n",
    "\n",
    "***Retrieval*** of data from the database***\n",
    "\n",
    "***Insertion*** of new data into the database\n",
    "\n",
    "***Updating*** the data in the database\n",
    "\n",
    "***Deletion*** of data from the database"
   ]
  },
  {
   "cell_type": "markdown",
   "id": "a621587f",
   "metadata": {},
   "source": [
    "***A query is a statement *asking* for the retrieval of information from the database."
   ]
  },
  {
   "cell_type": "markdown",
   "id": "3e1655dd",
   "metadata": {},
   "source": [
    "# SQL Language Elements"
   ]
  },
  {
   "cell_type": "markdown",
   "id": "746fffd7",
   "metadata": {},
   "source": [
    "**SELECT first_name FROM employees; == statement\n",
    "If we apply this SQL statement to our employees table, we get a single column that is first_name. "
   ]
  },
  {
   "cell_type": "markdown",
   "id": "ef917871",
   "metadata": {},
   "source": [
    "**SELECT, FROM words are keywords. They are special commands for SQL. first_name, employees are identifiers. SQL statements end with a semicolon (;).  SQL Language Elements is also called SQL Syntax."
   ]
  },
  {
   "cell_type": "markdown",
   "id": "f92449cf",
   "metadata": {},
   "source": [
    "# Check Yourself-1"
   ]
  },
  {
   "cell_type": "code",
   "execution_count": null,
   "id": "5947b3e0",
   "metadata": {},
   "outputs": [],
   "source": [
    "A \n",
    "database\n",
    "  is a collection of data stored in a computer system.\n",
    "\n",
    "Feedback\n",
    "Your answer is correct.\n",
    "\n",
    "The correct answer is:\n",
    "A [database] is a collection of data stored in a computer system.\n",
    "\n",
    "Question 2\n",
    "Correct\n",
    "Mark 1.00 out of 1.00\n",
    "Not flaggedFlag question\n",
    "Question text\n",
    "In a Table, column header names are written in lowercase, and there shouldn't be any space in a single name.\n",
    "\n",
    "Select one:\n",
    "True \n",
    "False\n",
    "Feedback\n",
    "Congrats! You are right.\n",
    "\n",
    "The correct answer is 'True'.\n",
    "Question 3\n",
    "Correct\n",
    "Mark 1.00 out of 1.00\n",
    "Not flaggedFlag question\n",
    "Question text\n",
    "A database can consist of one or more \n",
    "table\n",
    " .\n",
    "\n",
    "Feedback\n",
    "Your answer is correct.\n",
    "\n",
    "The correct answer is:\n",
    "A database can consist of one or more [table].\n",
    "\n",
    "Question 4\n",
    "Correct\n",
    "Mark 1.00 out of 1.00\n",
    "Not flaggedFlag question\n",
    "Question text\n",
    "Which of the following statements is incorrect about tables?\n",
    "\n",
    "Select one:\n",
    "Each table doesn't need to have a unique name Congrats! You are right.\n",
    "Columns should have a unique name.\n",
    "A table is made up of columns and rows.\n",
    "Column header names are written in lowercase.\n",
    "Feedback\n",
    "Your answer is correct.\n",
    "\n",
    "The correct answer is: Each table doesn't need to have a unique name\n",
    "Question 5\n",
    "Correct\n",
    "Mark 1.00 out of 1.00\n",
    "Not flaggedFlag question\n",
    "Question text\n",
    "SQL stands for:\n",
    "\n",
    "Select one:\n",
    "Structured Query Language Congrats! You are right.\n",
    "Structured Question Language\n",
    "Feedback\n",
    "Your answer is correct.\n",
    "\n",
    "The correct answer is: Structured Query Language\n",
    "Question 6\n",
    "Correct\n",
    "Mark 1.00 out of 1.00\n",
    "Not flaggedFlag question\n",
    "Question text\n",
    "A \n",
    "query\n",
    "  is a statement asking for the retrieval of information from the database.\n",
    "\n",
    "Feedback\n",
    "Your answer is correct.\n",
    "\n",
    "The correct answer is:\n",
    "A [query] is a statement asking for the retrieval of information from the database.\n",
    "\n",
    "Question 7\n",
    "Correct\n",
    "Mark 1.00 out of 1.00\n",
    "Not flaggedFlag question\n",
    "Question text\n",
    "SELECT, FROM words, are keywords and they are special commands for SQL.\n",
    "\n",
    "Select one:\n",
    "True \n",
    "False\n",
    "Feedback\n",
    "Congrats! You are right.\n",
    "\n",
    "The correct answer is 'True'."
   ]
  },
  {
   "cell_type": "code",
   "execution_count": null,
   "id": "22f9b74e",
   "metadata": {},
   "outputs": [],
   "source": []
  }
 ],
 "metadata": {
  "kernelspec": {
   "display_name": "Python 3",
   "language": "python",
   "name": "python3"
  },
  "language_info": {
   "codemirror_mode": {
    "name": "ipython",
    "version": 3
   },
   "file_extension": ".py",
   "mimetype": "text/x-python",
   "name": "python",
   "nbconvert_exporter": "python",
   "pygments_lexer": "ipython3",
   "version": "3.8.8"
  }
 },
 "nbformat": 4,
 "nbformat_minor": 5
}
