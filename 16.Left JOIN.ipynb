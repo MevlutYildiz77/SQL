{
 "cells": [
  {
   "cell_type": "markdown",
   "id": "bcb846f9",
   "metadata": {},
   "source": [
    "# Introduction\n",
    "\n",
    "**In this JOIN statement, all the records of the left table and the **common records** of the right table are returned in the query. **If no matching** rows are found in the right table during the JOIN operation, these values are assigned as **NULL.**\n",
    "\n",
    "**Tips:\n",
    "**If no match is found for a particular row, **NULL** is returned.\n",
    "\n",
    "\n",
    "**SELECT columns\n",
    "  FROM table_A\n",
    "  LEFT JOIN table_B ON join_conditions\n",
    "\n",
    "**columns: Column names from table_A or table_B.\n",
    "table_A, table_B: The names of the joined tables.\n",
    "join_conditions: It specifies the conditions to evaluate for each pair of joined rows.\n",
    "\n",
    "***LEFT JOIN and LEFT OUTER JOIN keywords are exactly the **same.** **OUTER** keyword is **optional.**\n",
    "\n",
    "**SELECT columns\n",
    "  FROM table_A\n",
    "  LEFT **OUTER** JOIN table_B ON join_conditions\n",
    "\n",
    "Example: \n",
    "To understand easily how LEFT JOIN works, we can use the following visual explanation. The shaded area represents **all rows in the \"employees\" table and all matching rows in the \"departments\" table.\n",
    "\n",
    "**SELECT\n",
    "    employees.emp_id,\n",
    "    employees.first_name,\n",
    "    employees.last_name,\n",
    "    departments.dept_name,\n",
    "    departments.dept_id\n",
    "  FROM employees\n",
    "  LEFT JOIN departments\n",
    "    ON employees.emp_id = departments.emp_id;\n",
    "\n",
    "emp_id      first_name  last_name   dept_name   dept_id   \n",
    "----------  ----------  ----------  ----------  ----------\n",
    "17679       Robert      Gilmore     Operations  13        \n",
    "26650       Elvis       Ritter      Marketing   14        \n",
    "30840       David       Barrow      Operations  13        \n",
    "49714       Hugo        Forester    null        null\n",
    "51821       Linda       Foster      Operations  13        \n",
    "67323       Lisa        Wiener      Marketing   14        \n",
    "70950       Rodney      Weaver      null        null                        \n",
    "71329       Gayle       Meyer       null        null\n",
    "76589       Jason       Christian   Operations  13        \n",
    "97927       Billie      Lanning     Technology  12\n",
    "\n",
    "\n",
    "\n"
   ]
  }
 ],
 "metadata": {
  "kernelspec": {
   "display_name": "Python 3",
   "language": "python",
   "name": "python3"
  },
  "language_info": {
   "codemirror_mode": {
    "name": "ipython",
    "version": 3
   },
   "file_extension": ".py",
   "mimetype": "text/x-python",
   "name": "python",
   "nbconvert_exporter": "python",
   "pygments_lexer": "ipython3",
   "version": "3.8.8"
  }
 },
 "nbformat": 4,
 "nbformat_minor": 5
}
