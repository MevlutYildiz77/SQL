{
 "cells": [
  {
   "cell_type": "markdown",
   "id": "5143e69b",
   "metadata": {},
   "source": [
    "# Introduction"
   ]
  },
  {
   "cell_type": "markdown",
   "id": "c2e43fb2",
   "metadata": {},
   "source": [
    "AND, OR & NOT keywords are **called operators.** In particular, they are **called logical operators.** **Their purposes are filtering the data based on conditions.** "
   ]
  },
  {
   "cell_type": "markdown",
   "id": "e9f5d2d1",
   "metadata": {},
   "source": [
    "The **WHERE clause** can be **combined with AND, OR & NOT operators."
   ]
  },
  {
   "cell_type": "markdown",
   "id": "9c24af86",
   "metadata": {},
   "source": [
    "# AND Operator"
   ]
  },
  {
   "cell_type": "markdown",
   "id": "96892bcf",
   "metadata": {},
   "source": [
    "The AND operator is **used with the WHERE clause** and **combines multiple expressions.** It **returns only those records where both conditions (in WHERE clause) evaluate to True.**"
   ]
  },
  {
   "cell_type": "markdown",
   "id": "a62fdf53",
   "metadata": {},
   "source": [
    "**WHERE left_conditon AND right_condition"
   ]
  },
  {
   "cell_type": "markdown",
   "id": "551f6c73",
   "metadata": {},
   "source": [
    "Ex: display the employees whose title is a data scientist and gender is male."
   ]
  },
  {
   "cell_type": "code",
   "execution_count": null,
   "id": "99942726",
   "metadata": {},
   "outputs": [],
   "source": [
    "SELECT *\n",
    "FROM employees\n",
    "WHERE job_title = 'Data Scientist' AND gender = 'Male';"
   ]
  },
  {
   "cell_type": "markdown",
   "id": "ac92af46",
   "metadata": {},
   "source": [
    "# OR Operator"
   ]
  },
  {
   "cell_type": "markdown",
   "id": "7931fcee",
   "metadata": {},
   "source": [
    "The OR operator is used with the WHERE clause and combines multiple expressions. It displays the record where either one of conditions (in WHERE clause) evaluates to True."
   ]
  },
  {
   "cell_type": "markdown",
   "id": "a8f023b2",
   "metadata": {},
   "source": [
    "**WHERE first_condition OR second_condition"
   ]
  },
  {
   "cell_type": "code",
   "execution_count": null,
   "id": "a15b8f20",
   "metadata": {},
   "outputs": [],
   "source": [
    "Ex: Display the employees whose title is a data scientist or gender is male."
   ]
  },
  {
   "cell_type": "code",
   "execution_count": null,
   "id": "d2c0255e",
   "metadata": {},
   "outputs": [],
   "source": [
    "SELECT *\n",
    "FROM employees\n",
    "WHERE job_title = 'Data Scientist' OR gender = 'Male';"
   ]
  },
  {
   "cell_type": "markdown",
   "id": "1f6d9459",
   "metadata": {},
   "source": [
    "**Tip: Don't get confused with ANDs and ORs!\n",
    "When you want ALL of your conditions to be true, use AND\n",
    "When you want ANY of your conditions to be true, use OR"
   ]
  },
  {
   "cell_type": "markdown",
   "id": "ec5b4f2b",
   "metadata": {},
   "source": [
    "# NOT Operator"
   ]
  },
  {
   "cell_type": "markdown",
   "id": "ae491c2d",
   "metadata": {},
   "source": [
    "The NOT operator is **used to negate a condition in the WHERE clause.** NOT is **placed right after WHERE** keyword. You can **use it with AND & OR** operators. "
   ]
  },
  {
   "cell_type": "code",
   "execution_count": null,
   "id": "2879dacc",
   "metadata": {},
   "outputs": [],
   "source": [
    "WHERE NOT first_condition"
   ]
  },
  {
   "cell_type": "code",
   "execution_count": null,
   "id": "1d2aea8c",
   "metadata": {},
   "outputs": [],
   "source": [
    "Ex: Display the male employees. "
   ]
  },
  {
   "cell_type": "code",
   "execution_count": null,
   "id": "e5c7580c",
   "metadata": {},
   "outputs": [],
   "source": [
    "SELECT *\n",
    "FROM employees\n",
    "WHERE gender = 'Male';\n",
    "\n",
    "We can also write it in another way using NOT operator.\n",
    "\n",
    "SELECT *\n",
    "FROM employees\n",
    "WHERE NOT gender = 'Female';"
   ]
  },
  {
   "cell_type": "markdown",
   "id": "7f4fe2cb",
   "metadata": {},
   "source": [
    "# Check Yourself-6"
   ]
  },
  {
   "cell_type": "code",
   "execution_count": null,
   "id": "254bbb0c",
   "metadata": {},
   "outputs": [],
   "source": []
  }
 ],
 "metadata": {
  "kernelspec": {
   "display_name": "Python 3",
   "language": "python",
   "name": "python3"
  },
  "language_info": {
   "codemirror_mode": {
    "name": "ipython",
    "version": 3
   },
   "file_extension": ".py",
   "mimetype": "text/x-python",
   "name": "python",
   "nbconvert_exporter": "python",
   "pygments_lexer": "ipython3",
   "version": "3.8.8"
  }
 },
 "nbformat": 4,
 "nbformat_minor": 5
}
