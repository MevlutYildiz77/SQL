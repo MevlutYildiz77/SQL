{
 "cells": [
  {
   "cell_type": "markdown",
   "id": "68b3e4c1",
   "metadata": {},
   "source": []
  },
  {
   "cell_type": "markdown",
   "id": "88824da7",
   "metadata": {},
   "source": [
    "# MIN Function\n",
    "MIN function **returns the minimum value** in the selected column.\n",
    "\n",
    "**SELECT MIN(column_name)\n",
    "FROM table_name;\n",
    "\n",
    "The MIN function **ignores the NULL values.** Thus, it **retrieves the non-NULL minimum value in the selected column.**\n",
    "\n",
    "**SELECT MIN(salary) AS lowest_salary\n",
    "FROM employees;\n",
    "\n",
    "lowest_salary\n",
    "-------------\n",
    "55000\n",
    "\n",
    "We can also **combine MIN function with WHERE** clause.\n",
    "**Display the female employee who gets paid the lowest. \n",
    "\n",
    "**SELECT MIN(salary) AS lowest_salary\n",
    "FROM employees\n",
    "WHERE gender = 'Female';\n",
    "\n",
    "lowest_salary\n",
    "-------------\n",
    "67000\n",
    "\n",
    "\n",
    "**You can use ORDER BY and LIMIT keywords to get the minimum value in a selected column. This will yield the same result as in the MIN function.\n",
    "\n",
    "**Ex:The MIN function can also be used with dates. For instance, display the earliest hired employee's date.\n",
    "\n",
    "**SELECT MIN(hire_date) AS earliest_date\n",
    "FROM employees;\n",
    "\n",
    "earliest_date\n",
    "-------------\n",
    "2017-11-24\n",
    "\n",
    "# MAX Function\n",
    "\n",
    "MAX function **returns the maximum value in the selected column.**\n",
    "\n",
    "**SELECT MAX(column_name)\n",
    "FROM table_name;\n",
    "\n",
    "The MAX function **ignores the NULL values.\n",
    "\n",
    "**SELECT MAX(salary) AS highest_salary\n",
    "FROM employees;\n",
    "\n",
    "highest_salary\n",
    "-------------\n",
    "110000\n",
    "\n",
    "We can also **combine MAX function with WHERE** clause as we did in the MIN function.\n",
    "\n",
    "**SELECT MAX(salary) AS highest_salary\n",
    "FROM employees\n",
    "WHERE gender = 'Male';\n",
    "\n",
    "ighest_salary\n",
    "-------------\n",
    "110000\n",
    "\n",
    "You **can use ORDER BY and LIMIT keywords to get the maximum value in a selected column. This will yield the same result as in the MAX function.\n",
    "\n",
    "The MAX function can be used with dates. For instance, we can display the newest hired employee's date\n",
    "\n",
    "\n",
    "\n",
    "\n",
    "\n",
    "\n",
    "\n",
    "\n",
    "\n",
    "\n",
    "\n",
    "\n",
    "\n"
   ]
  },
  {
   "cell_type": "markdown",
   "id": "8b01f446",
   "metadata": {},
   "source": [
    "\n",
    "\n",
    "\n",
    "\n",
    "\n",
    "\n",
    "\n"
   ]
  },
  {
   "cell_type": "code",
   "execution_count": null,
   "id": "e3f9d5ac",
   "metadata": {},
   "outputs": [],
   "source": [
    "YILLARI BULMAK İÇİN:"
   ]
  },
  {
   "cell_type": "code",
   "execution_count": null,
   "id": "5f28fef0",
   "metadata": {},
   "outputs": [],
   "source": [
    "SELECT DISTINCT strftime(\"%Y\", invoiceDate)\n",
    "FROM invoices"
   ]
  },
  {
   "cell_type": "code",
   "execution_count": null,
   "id": "3050bb42",
   "metadata": {},
   "outputs": [],
   "source": [
    "SELECT strftime(\"%Y\", InvoiceDate) AS yillar, COUNT(strftime(\"%Y\", InvoiceDate)) AS adet\n",
    "FROM invoices\n",
    "GROUP BY strftime(\"%Y\", InvoiceDate);"
   ]
  }
 ],
 "metadata": {
  "kernelspec": {
   "display_name": "Python 3",
   "language": "python",
   "name": "python3"
  },
  "language_info": {
   "codemirror_mode": {
    "name": "ipython",
    "version": 3
   },
   "file_extension": ".py",
   "mimetype": "text/x-python",
   "name": "python",
   "nbconvert_exporter": "python",
   "pygments_lexer": "ipython3",
   "version": "3.8.8"
  }
 },
 "nbformat": 4,
 "nbformat_minor": 5
}
