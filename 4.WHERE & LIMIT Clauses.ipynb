{
 "cells": [
  {
   "cell_type": "markdown",
   "id": "f27fca3b",
   "metadata": {},
   "source": [
    "# Introduction"
   ]
  },
  {
   "cell_type": "markdown",
   "id": "6b570d0e",
   "metadata": {},
   "source": [
    "The **WHERE clause is used to *filter* records**.\n",
    " It allows you to **define a specific search condition** for the result set returned by a query.\n",
    " So, the result set only consists of the records that fulfill the predefined condition(s)."
   ]
  },
  {
   "cell_type": "markdown",
   "id": "d833a073",
   "metadata": {},
   "source": [
    "The WHERE clause is **mostly used with the SELECT** statement. In addition to the SELECT statement, it may also be used with some other statements like **DELETE and UPDATE.** It's **used in a query after the FROM clause**."
   ]
  },
  {
   "cell_type": "markdown",
   "id": "b160b4e8",
   "metadata": {},
   "source": [
    "**SELECT column_name(s) FROM table_name WHERE condition(s);"
   ]
  },
  {
   "cell_type": "markdown",
   "id": "c8a253c9",
   "metadata": {},
   "source": [
    "**By using this query, you explain to SQL that *you only want to get the data that pass the defined condition(s)* as a result set."
   ]
  },
  {
   "cell_type": "markdown",
   "id": "8a2e90d4",
   "metadata": {},
   "source": [
    "Operators in the WHERE Clause\n",
    "Operator\tDescription\n",
    "=\tEqual to\n",
    ">\tGreater than\n",
    "<\tLess than\n",
    ">=\tGreater than or equal\n",
    "<=\tLess than or equal\n",
    "<>\tNot equal. This operator may be written as != in some versions of SQL \n",
    "BETWEEN\tTest if a value is between a certain range of values\n",
    "**LIKE\tDetermine if a character string matches a predefined pattern**\n",
    "**IN\tTest whether or a value matches any value in a list**"
   ]
  },
  {
   "cell_type": "markdown",
   "id": "b55d871c",
   "metadata": {},
   "source": [
    "If we want to select only the records of which grade is higher than 70 in the result set, then we should write a query like this."
   ]
  },
  {
   "cell_type": "markdown",
   "id": "3c1802c0",
   "metadata": {},
   "source": [
    " **SELECT * FROM student_table WHERE grade > 70"
   ]
  },
  {
   "cell_type": "markdown",
   "id": "243ca592",
   "metadata": {},
   "source": [
    "Example-1: You want to **see only the records of which lesson is Mathematics** in the result set."
   ]
  },
  {
   "cell_type": "markdown",
   "id": "a590b8d4",
   "metadata": {},
   "source": [
    "**SELECT * FROM student_table WHERE lesson = \"Mathematics\";"
   ]
  },
  {
   "cell_type": "code",
   "execution_count": null,
   "id": "2872b388",
   "metadata": {},
   "outputs": [],
   "source": [
    "Example-2: select only the records of which grade is lower than 70 in the result set."
   ]
  },
  {
   "cell_type": "markdown",
   "id": "1d20ac61",
   "metadata": {},
   "source": [
    "**SELECT * FROM student_table WHERE grade < 70"
   ]
  },
  {
   "cell_type": "markdown",
   "id": "1d29f217",
   "metadata": {},
   "source": [
    "# LIMIT Clause"
   ]
  },
  {
   "cell_type": "markdown",
   "id": "c97ff4c3",
   "metadata": {},
   "source": [
    "The LIMIT clause is **used to filter records.** It **constrains the number of rows returned by a query.** **Assume that your query returns one thousand rows. But you only want to see the first 10 rows** in the result set. In such cases, we use LIMIT clause to obtain the desired output. "
   ]
  },
  {
   "cell_type": "markdown",
   "id": "0ec43e50",
   "metadata": {},
   "source": [
    "**SELECT column_name(s) FROM table_name LIMIT number_rows;"
   ]
  },
  {
   "cell_type": "markdown",
   "id": "972b4451",
   "metadata": {},
   "source": [
    "Let's select all the columns of the student_table and return the first 3 rows."
   ]
  },
  {
   "cell_type": "markdown",
   "id": "2273f378",
   "metadata": {},
   "source": [
    "**SELECT * FROM student_table LIMIT 3;"
   ]
  },
  {
   "cell_type": "markdown",
   "id": "8f4739a3",
   "metadata": {},
   "source": [
    "We can also **combine LIMIT with WHERE. LIMIT clause is placed after the WHERE clause.** **Let's select the students whose grade is higher than 70 and let our query return the first 2 rows.**"
   ]
  },
  {
   "cell_type": "markdown",
   "id": "4cac8ce0",
   "metadata": {},
   "source": [
    "**SELECT * FROM student_table WHERE grade > 70 LIMIT 2;"
   ]
  },
  {
   "cell_type": "markdown",
   "id": "57b0cba6",
   "metadata": {},
   "source": [
    "# Check Yourself-4"
   ]
  },
  {
   "cell_type": "code",
   "execution_count": null,
   "id": "b7778698",
   "metadata": {},
   "outputs": [],
   "source": []
  },
  {
   "cell_type": "code",
   "execution_count": null,
   "id": "e93bb233",
   "metadata": {},
   "outputs": [],
   "source": []
  },
  {
   "cell_type": "code",
   "execution_count": null,
   "id": "bce181b3",
   "metadata": {},
   "outputs": [],
   "source": []
  },
  {
   "cell_type": "code",
   "execution_count": null,
   "id": "d14a2123",
   "metadata": {},
   "outputs": [],
   "source": []
  },
  {
   "cell_type": "code",
   "execution_count": null,
   "id": "3d5506d4",
   "metadata": {},
   "outputs": [],
   "source": []
  }
 ],
 "metadata": {
  "kernelspec": {
   "display_name": "Python 3",
   "language": "python",
   "name": "python3"
  },
  "language_info": {
   "codemirror_mode": {
    "name": "ipython",
    "version": 3
   },
   "file_extension": ".py",
   "mimetype": "text/x-python",
   "name": "python",
   "nbconvert_exporter": "python",
   "pygments_lexer": "ipython3",
   "version": "3.8.8"
  }
 },
 "nbformat": 4,
 "nbformat_minor": 5
}
