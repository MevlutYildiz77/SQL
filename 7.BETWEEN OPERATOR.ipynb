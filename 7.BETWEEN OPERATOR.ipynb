{
 "cells": [
  {
   "cell_type": "markdown",
   "id": "514d84b7",
   "metadata": {},
   "source": [
    "# Introduction"
   ]
  },
  {
   "cell_type": "markdown",
   "id": "4d86e421",
   "metadata": {},
   "source": [
    "The BETWEEN operator is **used for comparison in WHERE clauses.** It's a comparison operator. You can **use it to test if a value is in a range of values.** **If the value is in the specified range, the query returns all records fallen within that range. "
   ]
  },
  {
   "cell_type": "markdown",
   "id": "00ac160c",
   "metadata": {},
   "source": [
    "**WHERE test_expression BETWEEN low_expression AND high_expression\n",
    "\n",
    "****the BETWEEN operator is inclusive.**** **The above syntax can be written as follows:**\n",
    "\n",
    "**WHERE test_expression >= low_expression AND test_expression <= high_expression\n",
    "\n",
    "****Important: he BETWEEN operator is inclusive. To specify an exclusive range, use the greater than (>) and less than operators (<)."
   ]
  },
  {
   "cell_type": "markdown",
   "id": "8daa9c14",
   "metadata": {},
   "source": [
    "Ex: If we need to find the names of the employees with salary amounts between $80,000 and $90,000, we can use the BETWEEN comparison operator to write:\n",
    "\n",
    "SELECT *\n",
    "FROM employees\n",
    "WHERE salary BETWEEN 80000 AND 90000;\n",
    "\n",
    "You could also write the above query as follows:\n",
    "\n",
    "SELECT *\n",
    "FROM employees\n",
    "WHERE salary >= 80000 AND salary <= 90000;"
   ]
  },
  {
   "cell_type": "markdown",
   "id": "10fb500d",
   "metadata": {},
   "source": [
    "# NOT BETWEEN"
   ]
  },
  {
   "cell_type": "markdown",
   "id": "679ed58c",
   "metadata": {},
   "source": [
    "We can **use NOT BETWEEN to negate the result of the BETWEEN operator.**"
   ]
  },
  {
   "cell_type": "markdown",
   "id": "4dcdc300",
   "metadata": {},
   "source": [
    "**WHERE test_expression NOT BETWEEN low_expression AND high_expression"
   ]
  },
  {
   "cell_type": "markdown",
   "id": "d1b1c3d5",
   "metadata": {},
   "source": [
    "Ex: you need to find the employees whose salary is not between $80,000 and $90,000. Here is the query:\n",
    "\n",
    "SELECT *\n",
    "FROM employees\n",
    "WHERE salary NOT BETWEEN 80000 AND 90000;\n",
    "\n",
    "OR\n",
    "\n",
    "SELECT *\n",
    "FROM employees\n",
    "WHERE salary < 80000 OR salary > 90000;"
   ]
  },
  {
   "cell_type": "markdown",
   "id": "f4603b67",
   "metadata": {},
   "source": [
    "# BETWEEN with Date Example"
   ]
  },
  {
   "cell_type": "markdown",
   "id": "0939b27f",
   "metadata": {},
   "source": [
    "we **try to find employees who have joined the company from June 1, 2018 to March 31, 2019.** We also want to sort by hire date in ascending order."
   ]
  },
  {
   "cell_type": "markdown",
   "id": "17376bc2",
   "metadata": {},
   "source": [
    "****Important: Please enclose your date values with **single quote (')** and use **YYYY-MM-DD** date format in your query.***\n",
    "\n",
    "SELECT * FROM employees\n",
    "WHERE hire_date BETWEEN '2018-06-01' AND '2019-03-31'\n",
    "ORDER BY hire_date;"
   ]
  },
  {
   "cell_type": "code",
   "execution_count": null,
   "id": "265436b7",
   "metadata": {},
   "outputs": [],
   "source": [
    "SELECT InvoiceDate \n",
    "FROM invoices \n",
    "WHERE InvoiceDate BETWEEN \"2009-01-01\" AND \"2011-12-31\"\n",
    "ORDER BY InvoiceDate DESC LIMIT 1;"
   ]
  },
  {
   "cell_type": "code",
   "execution_count": null,
   "id": "bf9654a3",
   "metadata": {},
   "outputs": [],
   "source": [
    "Check Yourself-7"
   ]
  },
  {
   "cell_type": "code",
   "execution_count": null,
   "id": "baacfadf",
   "metadata": {},
   "outputs": [],
   "source": []
  }
 ],
 "metadata": {
  "kernelspec": {
   "display_name": "Python 3",
   "language": "python",
   "name": "python3"
  },
  "language_info": {
   "codemirror_mode": {
    "name": "ipython",
    "version": 3
   },
   "file_extension": ".py",
   "mimetype": "text/x-python",
   "name": "python",
   "nbconvert_exporter": "python",
   "pygments_lexer": "ipython3",
   "version": "3.8.8"
  }
 },
 "nbformat": 4,
 "nbformat_minor": 5
}
