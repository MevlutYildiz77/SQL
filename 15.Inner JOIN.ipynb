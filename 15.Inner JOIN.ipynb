{
 "cells": [
  {
   "cell_type": "markdown",
   "id": "b2e459be",
   "metadata": {},
   "source": [
    "# Introduction\n",
    "\n",
    "It creates a new **result table based on the values in common columns from two or more tables.** INNER JOIN returns a table that **contains only matched rows** that meet the specified join conditions.\n",
    "\n",
    "**SELECT columns\n",
    "  FROM table_A\n",
    "  INNER JOIN table_B ON join_conditions\n",
    "\n",
    "**columns: Column names from table_A or table_B.\n",
    "table_A, table_B: The names of the joined tables.\n",
    "join_conditions: It specifies the conditions to evaluate for each pair of joined rows.\n",
    "\n",
    "**A **join condition** generally takes the following form: **table_A.column = table_B.column.** The operator in this statement is **usually an equal sign (=), but **any comparison operator can also be used.**\n",
    "\n",
    "**Tips:\n",
    "Note the ON keyword for specifying the INNER JOIN condition.\n",
    "Multiple join conditions can be written using AND or OR statements.\n",
    "\n",
    "Ex: three or more tables can be combined using the INNER JOIN clause.\n",
    "\n",
    "**SELECT columns\n",
    "  FROM table_A\n",
    "  INNER JOIN table_B \n",
    "    ON join_conditions1 AND join_conditions2\n",
    "  INNER JOIN table_C\n",
    "    ON join_conditions3 OR join_conditions4\n",
    "\n",
    "**Q: What is inner join?\n",
    "A: Retrieves records that have matching values in both tables involved in the join. \n",
    "\n",
    "\n",
    "**The intersection of the two tables represents the matching rows.\n",
    "\n",
    "**Syntax\n",
    "\n",
    "The INNER JOIN keyword selects all rows from both \"employees\" and \"departments\" tables as long as there is a match between the columns. If there are records in the \"employees\" table that do not have matches in \"departments\", these records are not shown in the output.\n",
    "\n",
    "**SELECT\n",
    "    employees.emp_id,\n",
    "    employees.first_name,\n",
    "    employees.last_name,\n",
    "    departments.dept_name,\n",
    "    departments.dept_id\n",
    "  FROM employees\n",
    "  INNER JOIN departments\n",
    "    ON employees.emp_id = departments.emp_id;\n",
    "\n",
    "emp_id  first_name  last_name\tdept_name   dept_id\n",
    "------  ----------  ---------   ----------  -------\n",
    "17679   Robert      Gilmore     Operations  13        \n",
    "26650   Elvis       Ritter      Marketing   14        \n",
    "30840   David       Barrow      Operations  13        \n",
    "51821   Linda       Foster      Operations  13        \n",
    "67323   Lisa        Wiener      Marketing   14        \n",
    "76589   Jason       Christian   Operations  13        \n",
    "97927   Billie      Lanning     Technology  12\n",
    "\n"
   ]
  }
 ],
 "metadata": {
  "kernelspec": {
   "display_name": "Python 3",
   "language": "python",
   "name": "python3"
  },
  "language_info": {
   "codemirror_mode": {
    "name": "ipython",
    "version": 3
   },
   "file_extension": ".py",
   "mimetype": "text/x-python",
   "name": "python",
   "nbconvert_exporter": "python",
   "pygments_lexer": "ipython3",
   "version": "3.8.8"
  }
 },
 "nbformat": 4,
 "nbformat_minor": 5
}
