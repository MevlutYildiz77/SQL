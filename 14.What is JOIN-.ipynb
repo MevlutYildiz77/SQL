{
 "cells": [
  {
   "cell_type": "markdown",
   "id": "de840be6",
   "metadata": {},
   "source": [
    "# Introduction\n",
    "\n",
    "A JOIN clause is **used to combine two or more tables into a single table.** Joins are usually **applied based on the keys that define the relationship between those tables or on common fields.** \n",
    "\n",
    "**Tips:\n",
    "In most cases this joins are created using the primary key of one table and the foreign key of the table we want to join it with.\n",
    "\n",
    "# JOIN Types\n",
    "\n",
    "**There are basically **five types** of JOINs: **INNER JOIN, LEFT JOIN, RIGHT JOIN, FULL OUTER JOIN and CROSS JOIN.** As a special case, **a table can join to itself and this type is called SELF JOIN.**\n",
    "\n",
    "**INNER JOIN**: Returns the **common records** in both tables.\n",
    "**LEFT JOIN**: Returns **all records from the left table and matching records from the right table.**\n",
    "**RIGHT JOIN**: Returns **all records from the right table and matching records from the left table.\n",
    "**FULL OUTER JOIN**: Returns **all records of both left and right tables.\n",
    "??CROSS JOIN**: Returns the **Cartesian product of records in joined tables.**\n",
    "**SELF JOIN**: **A join of a table to itself.**\n",
    "\n",
    "**Q: What is a Join?\n",
    "A: The SQL Join clause is used to combine records (rows) from two or more tables in a SQL database based on a related column between the two.\n",
    "\n",
    "\n",
    "\n"
   ]
  }
 ],
 "metadata": {
  "kernelspec": {
   "display_name": "Python 3",
   "language": "python",
   "name": "python3"
  },
  "language_info": {
   "codemirror_mode": {
    "name": "ipython",
    "version": 3
   },
   "file_extension": ".py",
   "mimetype": "text/x-python",
   "name": "python",
   "nbconvert_exporter": "python",
   "pygments_lexer": "ipython3",
   "version": "3.8.8"
  }
 },
 "nbformat": 4,
 "nbformat_minor": 5
}
