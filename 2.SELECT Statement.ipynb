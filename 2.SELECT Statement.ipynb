{
 "cells": [
  {
   "cell_type": "markdown",
   "id": "cef1ac02",
   "metadata": {},
   "source": [
    "# Introduction"
   ]
  },
  {
   "cell_type": "code",
   "execution_count": null,
   "id": "27911930",
   "metadata": {},
   "outputs": [],
   "source": [
    "The SELECT statement is used to select data from a database.\n",
    "You can retrieve rows from the columns of the table by using this statement. \n",
    "SELECT statement is used with FROM keyword."
   ]
  },
  {
   "cell_type": "markdown",
   "id": "848dcbcc",
   "metadata": {},
   "source": [
    "**SELECT column_name(s) FROM table_name;"
   ]
  },
  {
   "cell_type": "markdown",
   "id": "e0154d6d",
   "metadata": {},
   "source": [
    "**By using this query, you explain to SQL that you want to see the data from a column/columns in the given table."
   ]
  },
  {
   "cell_type": "markdown",
   "id": "a7ded487",
   "metadata": {},
   "source": [
    "# Basic Syntax"
   ]
  },
  {
   "cell_type": "markdown",
   "id": "d19a80fd",
   "metadata": {},
   "source": [
    "**SELECT column_name(s) FROM table_name;"
   ]
  },
  {
   "cell_type": "markdown",
   "id": "fa42c048",
   "metadata": {},
   "source": [
    "**SELECT and FROM words were written in uppercase, and the query ends with a semicolon.\n",
    "SQL statements **start with a keyword like SELECT, INSERT, UPDATE, DELETE,** etc. and all the statements **end with a semicolon (;)**.\n",
    "**The semicolon at the end indicates that the statement is completed and ready to be executed.**\n",
    "SQL is also **case insensitive,** which means you can **use both SELECT and select** in your query. They mean the same thing for SQL.\n",
    "Writing SQL commands in the **upper-case is the most common and preferred style.** But, you can write the same query in both ways"
   ]
  },
  {
   "cell_type": "code",
   "execution_count": null,
   "id": "2e0d8efc",
   "metadata": {},
   "outputs": [],
   "source": [
    "select column_name(s) from table_name;\n",
    "SELECT COLUMN_NAME(s) FROM TABLE_NAME;"
   ]
  },
  {
   "cell_type": "markdown",
   "id": "17a88593",
   "metadata": {},
   "source": [
    "**White spaces and empty lines are ignored in SQL."
   ]
  },
  {
   "cell_type": "code",
   "execution_count": 1,
   "id": "524917d6",
   "metadata": {},
   "outputs": [
    {
     "ename": "SyntaxError",
     "evalue": "invalid syntax (<ipython-input-1-e0ee11da809e>, line 1)",
     "output_type": "error",
     "traceback": [
      "\u001b[1;36m  File \u001b[1;32m\"<ipython-input-1-e0ee11da809e>\"\u001b[1;36m, line \u001b[1;32m1\u001b[0m\n\u001b[1;33m    SELECT                                  column_name(s)\u001b[0m\n\u001b[1;37m                                            ^\u001b[0m\n\u001b[1;31mSyntaxError\u001b[0m\u001b[1;31m:\u001b[0m invalid syntax\n"
     ]
    }
   ],
   "source": [
    "SELECT                                  column_name(s) \n",
    "\n",
    "  FROM                       table_name;\n"
   ]
  },
  {
   "cell_type": "markdown",
   "id": "c4eae270",
   "metadata": {},
   "source": [
    "Tip: To maintain your query clean and more readable, it's not recommended to use unnecessary empty lines and white spaces ."
   ]
  },
  {
   "cell_type": "markdown",
   "id": "83889c09",
   "metadata": {},
   "source": [
    "# Selecting Multiple Columns"
   ]
  },
  {
   "cell_type": "markdown",
   "id": "d8e42dd6",
   "metadata": {},
   "source": [
    "**SELECT column1, column2 FROM table1;"
   ]
  },
  {
   "cell_type": "markdown",
   "id": "2172875f",
   "metadata": {},
   "source": [
    "# Selecting All Columns"
   ]
  },
  {
   "cell_type": "markdown",
   "id": "3df410d7",
   "metadata": {},
   "source": [
    "**SELECT column1, column2, column3 FROM table1;"
   ]
  },
  {
   "cell_type": "code",
   "execution_count": null,
   "id": "17c5b0a2",
   "metadata": {},
   "outputs": [],
   "source": [
    "The asterisk character “*” has special meaning in SQL.\n",
    "\n",
    "To retrieve all of the information from your table, an asterisk (*) character can be used after the SELECT command."
   ]
  },
  {
   "cell_type": "markdown",
   "id": "09c456e8",
   "metadata": {},
   "source": [
    "**SELECT * FROM table1;"
   ]
  },
  {
   "cell_type": "markdown",
   "id": "a22bb5c7",
   "metadata": {},
   "source": [
    "# Check Yourself-2"
   ]
  },
  {
   "cell_type": "code",
   "execution_count": null,
   "id": "621b13f9",
   "metadata": {},
   "outputs": [],
   "source": []
  }
 ],
 "metadata": {
  "kernelspec": {
   "display_name": "Python 3",
   "language": "python",
   "name": "python3"
  },
  "language_info": {
   "codemirror_mode": {
    "name": "ipython",
    "version": 3
   },
   "file_extension": ".py",
   "mimetype": "text/x-python",
   "name": "python",
   "nbconvert_exporter": "python",
   "pygments_lexer": "ipython3",
   "version": "3.8.8"
  }
 },
 "nbformat": 4,
 "nbformat_minor": 5
}
