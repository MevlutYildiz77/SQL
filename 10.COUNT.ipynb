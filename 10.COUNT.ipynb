{
 "cells": [
  {
   "cell_type": "markdown",
   "id": "e299e2b4",
   "metadata": {},
   "source": [
    "# What is an aggregate function?"
   ]
  },
  {
   "cell_type": "markdown",
   "id": "fc20582f",
   "metadata": {},
   "source": [
    "Aggregate functions are functions that take a collection of values as input and return a single value. SQL has five built-in aggregate functions:\n",
    "\n",
    "COUNT (Count)\n",
    "MIN (Minimum)\n",
    "MAX (Maximum)\n",
    "SUM (Total)\n",
    "AVG (Average)"
   ]
  },
  {
   "cell_type": "markdown",
   "id": "b88f6aec",
   "metadata": {},
   "source": [
    "**Q: What is an aggregate function?\n",
    "A: An aggregate function **performs operations on a collection of values to return a single scalar value.** Aggregate functions are often **used with the GROUP BY and HAVING clauses of the SELECT** statement.**"
   ]
  },
  {
   "cell_type": "markdown",
   "id": "8cf8cfe0",
   "metadata": {},
   "source": [
    "**SUM and AVG** functions must take only **numeric values* as input. However, the other functions **(MIN, MAX, COUNT)** may take **non-numeric values (strings, date, etc.)** as input other than numeric values."
   ]
  },
  {
   "cell_type": "markdown",
   "id": "e9d8dab1",
   "metadata": {},
   "source": [
    "**NULL means no data and is a special value. It shows us that a piece of information is unknown or missing or not applicable.** For instance, let's assume that we have a song database and **we don't know the writers of some of them.** We don't have that information. So, to store these unknown songwriters in a database table, we must use NULL. If a table has NULL value, then it will be displayed as NULL."
   ]
  },
  {
   "cell_type": "markdown",
   "id": "67bafb2a",
   "metadata": {},
   "source": [
    "**Tips:\n",
    "NULL value represents the unknown value or missing value or not applicable.\n",
    "NULL is not equal to zero or empty string.\n",
    "NULL is not equal to itself.**"
   ]
  },
  {
   "cell_type": "markdown",
   "id": "3a93cd96",
   "metadata": {},
   "source": [
    "# Introduction"
   ]
  },
  {
   "cell_type": "markdown",
   "id": "bb69984c",
   "metadata": {},
   "source": [
    "We use COUNT function to **count the numbers of records (a.k.a row) in a table**.**Use COUNT keyword immediately after SELECT** keyword. **Then specify the column on which you want to operate.**"
   ]
  },
  {
   "cell_type": "code",
   "execution_count": null,
   "id": "625a33ed",
   "metadata": {},
   "outputs": [],
   "source": [
    "SELECT COUNT(column_name)\n",
    "FROM table_name;\n",
    "\n",
    "SELECT COUNT(first_name)\n",
    "FROM student_info;\n",
    "\n",
    "COUNT(first_name)\n",
    "-----------------\n",
    "32"
   ]
  },
  {
   "cell_type": "markdown",
   "id": "8bfe0a51",
   "metadata": {},
   "source": [
    "There is another special character returning the number of rows in a table. That is * character.  Use it inside the COUNT function as **COUNT(*).**"
   ]
  },
  {
   "cell_type": "markdown",
   "id": "f82dd4b4",
   "metadata": {},
   "source": [
    "COUNT(first_name)\n",
    "-----------------\n",
    "32\n",
    "\n",
    "If you notice that **the header of the output query is displayed as COUNT(first_name)**. However, we **can customize the header** using **AS keyword. AS is used to rename a column or table with an alias.**\n",
    "\n",
    " ***SELECT column_name AS alias_name\n",
    " \n",
    " **SELECT COUNT(first_name) AS count_of_students\n",
    "FROM student_info;\n"
   ]
  },
  {
   "cell_type": "markdown",
   "id": "d2be07f1",
   "metadata": {},
   "source": [
    "An important point for **COUNT(*)** function is that the **result table includes NULL and duplicate values.**, **If you want the number of non-null values, use the syntax COUNT(column_name)**."
   ]
  },
  {
   "cell_type": "markdown",
   "id": "f81d216e",
   "metadata": {},
   "source": [
    "# COUNT DISTINCT"
   ]
  },
  {
   "cell_type": "markdown",
   "id": "1a98de69",
   "metadata": {},
   "source": [
    "In some cases, **we may want unique values.** For instance, let's find how many different fields there are in the student_info table. "
   ]
  },
  {
   "cell_type": "code",
   "execution_count": null,
   "id": "c1ff5737",
   "metadata": {},
   "outputs": [],
   "source": [
    "SELECT COUNT(field) AS count_of_field\n",
    "FROM student_info;\n",
    "\n",
    "count_of_field\n",
    "--------------\n",
    "32"
   ]
  },
  {
   "cell_type": "markdown",
   "id": "df617d45",
   "metadata": {},
   "source": [
    "As you see that there are 32 fields. But, is that the correct number? Absolutely no. There are duplicate values. For instance, there is more than one student who enrolled in the course in the field of Data Science. **COUNT(field) counts the duplicate rows as separate rows.** So, we need to **use COUNT(DISTINCT column_name)** function here. **COUNT(DISTINCT field) returns the number of unique and non-null values in column field.**\n",
    "\n",
    "**SELECT COUNT(DISTINCT field) AS count_of_field\n",
    "FROM student_info;**\n",
    "\n",
    "count_of_field\n",
    "--------------\n",
    "6"
   ]
  },
  {
   "cell_type": "markdown",
   "id": "56383bb4",
   "metadata": {},
   "source": [
    "We can also **combine COUNT(DISTINCT) or COUNT() functions with WHERE** clause. \n",
    "Ex:display the number of students from Virginia.\n",
    "\n",
    "SELECT COUNT(*) AS count_of_students\n",
    "FROM student_info\n",
    "WHERE state = 'Virginia';\n",
    "\n",
    "count_of_students\n",
    "-----------------\n",
    "14"
   ]
  },
  {
   "cell_type": "code",
   "execution_count": null,
   "id": "d679c9e9",
   "metadata": {},
   "outputs": [],
   "source": []
  },
  {
   "cell_type": "code",
   "execution_count": null,
   "id": "1b0279fa",
   "metadata": {},
   "outputs": [],
   "source": []
  },
  {
   "cell_type": "code",
   "execution_count": null,
   "id": "a2112209",
   "metadata": {},
   "outputs": [],
   "source": []
  },
  {
   "cell_type": "code",
   "execution_count": null,
   "id": "4c2ef031",
   "metadata": {},
   "outputs": [],
   "source": []
  }
 ],
 "metadata": {
  "kernelspec": {
   "display_name": "Python 3",
   "language": "python",
   "name": "python3"
  },
  "language_info": {
   "codemirror_mode": {
    "name": "ipython",
    "version": 3
   },
   "file_extension": ".py",
   "mimetype": "text/x-python",
   "name": "python",
   "nbconvert_exporter": "python",
   "pygments_lexer": "ipython3",
   "version": "3.8.8"
  }
 },
 "nbformat": 4,
 "nbformat_minor": 5
}
