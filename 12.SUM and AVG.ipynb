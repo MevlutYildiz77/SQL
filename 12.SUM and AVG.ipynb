{
 "cells": [
  {
   "cell_type": "markdown",
   "id": "9ab5f8aa",
   "metadata": {},
   "source": [
    "# SUM Function\n",
    "\n",
    "SUM function **returns the sum of a numeric column. \n",
    "\n",
    "**SELECT SUM(column_name)\n",
    "FROM table_name;\n",
    "\n",
    "**SELECT SUM(salary) AS total_salary\n",
    "FROM employees;\n",
    "\n",
    "**SELECT SUM(salary) AS total_salary\n",
    "FROM employees\n",
    "WHERE gender = 'Female'\n",
    "\n",
    "# AVG Function\n",
    "\n",
    "AVG function **calculates the average of a numeric column.**\n",
    "\n",
    "**SELECT AVG(column_name)\n",
    "FROM table_name;\n",
    "\n",
    "**SELECT AVG(salary) AS average_salary\n",
    "FROM employees;\n",
    "\n",
    "**SELECT AVG(salary) AS average_salary\n",
    "FROM employees\n",
    "WHERE gender = 'Male';"
   ]
  }
 ],
 "metadata": {
  "kernelspec": {
   "display_name": "Python 3",
   "language": "python",
   "name": "python3"
  },
  "language_info": {
   "codemirror_mode": {
    "name": "ipython",
    "version": 3
   },
   "file_extension": ".py",
   "mimetype": "text/x-python",
   "name": "python",
   "nbconvert_exporter": "python",
   "pygments_lexer": "ipython3",
   "version": "3.8.8"
  }
 },
 "nbformat": 4,
 "nbformat_minor": 5
}
