{
 "cells": [
  {
   "cell_type": "markdown",
   "id": "e4ccf871",
   "metadata": {},
   "source": [
    "# Introduction"
   ]
  },
  {
   "cell_type": "code",
   "execution_count": null,
   "id": "96c5af32",
   "metadata": {},
   "outputs": [],
   "source": [
    "The IN operator is used to determine whether a value matches any value in a list. We use IN operator with WHERE clause."
   ]
  },
  {
   "cell_type": "markdown",
   "id": "df335f67",
   "metadata": {},
   "source": [
    "**WHERE column_name IN (value_list)"
   ]
  },
  {
   "cell_type": "code",
   "execution_count": null,
   "id": "92b2abe3",
   "metadata": {},
   "outputs": [],
   "source": [
    "SELECT *\n",
    "FROM employees\n",
    "WHERE job_title = 'Data Scientist'\n",
    "OR\n",
    "job_title = 'Business Analyst';\n",
    "\n",
    "We may rewrite the query as follows:\n",
    "\n",
    "SELECT *\n",
    "FROM employees\n",
    "WHERE job_title IN ('Data Scientist', 'Business Analyst');"
   ]
  },
  {
   "cell_type": "markdown",
   "id": "e3e5fcbb",
   "metadata": {},
   "source": [
    "# An Extended Value List"
   ]
  },
  {
   "cell_type": "code",
   "execution_count": null,
   "id": "1792d1d6",
   "metadata": {},
   "outputs": [],
   "source": [
    "SELECT *\n",
    "FROM employees\n",
    "WHERE job_title = 'Data Scientist'\n",
    "OR\n",
    "job_title = 'Business Analyst'\n",
    "OR\n",
    "job_title = 'Project Manager'\n",
    "OR\n",
    "job_title = 'Web Developer';\n",
    "\n",
    "YA DA;\n",
    "\n",
    "SELECT *\n",
    "FROM employees\n",
    "WHERE job_title IN ('Data Scientist', 'Business Analyst', 'Project Manager', 'Web Developer');"
   ]
  },
  {
   "cell_type": "markdown",
   "id": "38885287",
   "metadata": {},
   "source": [
    "**Tip: If you have a query in which you use many OR operators, consider using the IN operator instead. This will make your query more readable."
   ]
  },
  {
   "cell_type": "markdown",
   "id": "6f4ff1a6",
   "metadata": {},
   "source": [
    "# NOT IN Operator"
   ]
  },
  {
   "cell_type": "markdown",
   "id": "6f70c88f",
   "metadata": {},
   "source": [
    "You're building a team. You don't want to include Operations Director, HR Manager, and Sales Manager in the team."
   ]
  },
  {
   "cell_type": "markdown",
   "id": "fc50ce6f",
   "metadata": {},
   "source": [
    "If we know which values we don't want to include in a list, we can use NOT keyword with IN. NOT gives you the opposite results, anything that doesn't match the list. Use NOT just before IN operator.\n",
    "\n",
    "SELECT *\n",
    "FROM employees\n",
    "WHERE job_title\n",
    "NOT IN ('Operations Director', 'HR Manager', 'Sales Manager');\n"
   ]
  },
  {
   "cell_type": "markdown",
   "id": "bcd88743",
   "metadata": {},
   "source": [
    "# Check Yourself-8"
   ]
  }
 ],
 "metadata": {
  "kernelspec": {
   "display_name": "Python 3",
   "language": "python",
   "name": "python3"
  },
  "language_info": {
   "codemirror_mode": {
    "name": "ipython",
    "version": 3
   },
   "file_extension": ".py",
   "mimetype": "text/x-python",
   "name": "python",
   "nbconvert_exporter": "python",
   "pygments_lexer": "ipython3",
   "version": "3.8.8"
  }
 },
 "nbformat": 4,
 "nbformat_minor": 5
}
