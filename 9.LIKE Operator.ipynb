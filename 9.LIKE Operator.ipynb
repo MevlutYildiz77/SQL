{
 "cells": [
  {
   "cell_type": "markdown",
   "id": "ba1fc7fd",
   "metadata": {},
   "source": [
    "# Introduction"
   ]
  },
  {
   "cell_type": "markdown",
   "id": "e0c73de2",
   "metadata": {},
   "source": [
    "consider that you're trying to recall a student's county info from our student_info table. You know that the county's name starts with 'Wo'. In such cases, we use LIKE operator."
   ]
  },
  {
   "cell_type": "code",
   "execution_count": null,
   "id": "0ac05041",
   "metadata": {},
   "outputs": [],
   "source": [
    "SELECT column_name(s)\n",
    "FROM table_name\n",
    "WHERE column_1 LIKE pattern;\n"
   ]
  },
  {
   "cell_type": "markdown",
   "id": "a26dd3eb",
   "metadata": {},
   "source": [
    "After LIKE keyword, we construct a pattern. SQL provides two special characters for constructing patterns.\n",
    "\n",
    "Percent (%): The % character matches any sequence of zero or more characters.\n",
    "Underscore ( _ ): The _ character matches any single character."
   ]
  },
  {
   "cell_type": "markdown",
   "id": "9c4ba788",
   "metadata": {},
   "source": [
    "***Patterns are case insensitive. Uppercase characters do match lowercase characters or vice versa.\n",
    "\n",
    "Patterns are written in single quotes.\n",
    "\n",
    "**'Out%' pattern matches any string beginning with \"Out\" such as \"Outro\".\n",
    "**'s%' pattern matches any string that starts with \"s\" such as \"silk\", \"soup\", etc.\n",
    "**'%per%' pattern matches any string containing \"per\" such as \"percentile\" and \"peeper\". \n",
    "**'s_n' pattern matches \"son\", \"sun\", etc. \n",
    "**'__te' pattern matches \"mate\", \"Kate\", \"kate\", etc.***"
   ]
  },
  {
   "cell_type": "code",
   "execution_count": null,
   "id": "a440f6bc",
   "metadata": {},
   "outputs": [],
   "source": [
    "SELECT *\n",
    "FROM student_info\n",
    "WHERE county LIKE 'Wo%';"
   ]
  },
  {
   "cell_type": "markdown",
   "id": "c26ed672",
   "metadata": {},
   "source": [
    "% wildcard matches with the letters 'od' in the Wood word. Remember that %wildcard matches any sequence of zero or more characters. "
   ]
  },
  {
   "cell_type": "markdown",
   "id": "a31025e5",
   "metadata": {},
   "source": [
    "# Percent Character Example"
   ]
  },
  {
   "cell_type": "markdown",
   "id": "5c0956ab",
   "metadata": {},
   "source": [
    "The pattern is '%Developer'. Herein % wildcard will include all the characters before the word \"Developer\".\n",
    "\n",
    "SELECT *\n",
    "FROM student_info\n",
    "WHERE field LIKE '%Developer';\n",
    "\n",
    "We could write the pattern as **'%Developer%'**. This also returns the same result table."
   ]
  },
  {
   "cell_type": "markdown",
   "id": "db10a0d7",
   "metadata": {},
   "source": [
    "LIKE operator is case-insensitive. That means instead of '%Developer', we can write '%developer', '%DEVELOPER' even '%DEveloper'. All those patterns will match \"Back-End Developer\" or \"Front-End Developer\". "
   ]
  },
  {
   "cell_type": "markdown",
   "id": "c67a2ffc",
   "metadata": {},
   "source": [
    "***if you want to make LIKE operator case-sensitive, we need to use PRAGMA statement as follows:\n",
    "\n",
    "**PRAGMA case_sensitive_like = true;***\n",
    "\n",
    "PRAGMA case_sensitive_like = true;\n",
    "SELECT *\n",
    "FROM student_info\n",
    "WHERE field LIKE '%developer';"
   ]
  },
  {
   "cell_type": "markdown",
   "id": "f69f7dc2",
   "metadata": {},
   "source": [
    "# Underscore Character Example"
   ]
  },
  {
   "cell_type": "markdown",
   "id": "881d2088",
   "metadata": {},
   "source": [
    "The underscore _ wildcard **matches a single character.** Think of it as representing a single character. For instance, the following query finds the employee whose first_name is \"Elvis\".\n",
    "\n",
    "SELECT first_name\n",
    "FROM employees\n",
    "WHERE first_name LIKE 'El_is';"
   ]
  },
  {
   "cell_type": "markdown",
   "id": "acd32783",
   "metadata": {},
   "source": [
    "Which first name the 'Li__a' pattern will match in the first name column? The answer is \"Linda\". Note that there are two underscore characters in the 'Li__a' pattern. "
   ]
  }
 ],
 "metadata": {
  "kernelspec": {
   "display_name": "Python 3",
   "language": "python",
   "name": "python3"
  },
  "language_info": {
   "codemirror_mode": {
    "name": "ipython",
    "version": 3
   },
   "file_extension": ".py",
   "mimetype": "text/x-python",
   "name": "python",
   "nbconvert_exporter": "python",
   "pygments_lexer": "ipython3",
   "version": "3.8.8"
  }
 },
 "nbformat": 4,
 "nbformat_minor": 5
}
