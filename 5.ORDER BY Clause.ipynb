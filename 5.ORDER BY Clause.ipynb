{
 "cells": [
  {
   "cell_type": "markdown",
   "id": "32bfd84d",
   "metadata": {},
   "source": [
    "# Order By Clause"
   ]
  },
  {
   "cell_type": "markdown",
   "id": "b41f9b62",
   "metadata": {},
   "source": [
    "SELECT statement returns records in an unspecified order. **In case you want to retrieve data in alphabetical or numeric order, we use ORDER BY keyword.** "
   ]
  },
  {
   "cell_type": "markdown",
   "id": "d8bddf02",
   "metadata": {},
   "source": [
    "The ORDER BY keyword sorts the result-set in descending or ascending order.  \n",
    "\n",
    "***By default ORDER BY keyword sorts the records in ascending order.*** Use the keyword **DESC** to sort the records in **descending order.** You can also use **ASC** to sort the data in **ascending order.**"
   ]
  },
  {
   "cell_type": "markdown",
   "id": "9e93d77d",
   "metadata": {},
   "source": [
    "**SELECT column_name(s) FROM table_name ORDER BY column_name(s) ASC|DESC;"
   ]
  },
  {
   "cell_type": "markdown",
   "id": "21b8df1b",
   "metadata": {},
   "source": [
    "**\"|\" symbol means \"use either ASC or DESC\". If you don't use any of them, the default value is ASC (ascending order)."
   ]
  },
  {
   "cell_type": "code",
   "execution_count": null,
   "id": "05bb8b6e",
   "metadata": {},
   "outputs": [],
   "source": [
    "Ex: I want to sort the first_name column in alphabetical order (A-Z). "
   ]
  },
  {
   "cell_type": "markdown",
   "id": "bcfe8451",
   "metadata": {},
   "source": [
    "**SELECT * FROM employees ORDER BY first_name ASC;"
   ]
  },
  {
   "cell_type": "markdown",
   "id": "8d3571b7",
   "metadata": {},
   "source": [
    "**Not only the first_name column is sorted,**but also other columns are affected** by the sort accordingly. "
   ]
  },
  {
   "cell_type": "markdown",
   "id": "c097916a",
   "metadata": {},
   "source": [
    "**SELECT * FROM employees ORDER BY first_name;"
   ]
  },
  {
   "cell_type": "markdown",
   "id": "7e218832",
   "metadata": {},
   "source": [
    "# Sorting in Descending Order"
   ]
  },
  {
   "cell_type": "markdown",
   "id": "40f0b13d",
   "metadata": {},
   "source": [
    "**SELECT * FROM employees ORDER BY first_name DESC;"
   ]
  },
  {
   "cell_type": "markdown",
   "id": "eef30da6",
   "metadata": {},
   "source": [
    "Below is the query result. **Other columns are also affected.**"
   ]
  },
  {
   "cell_type": "markdown",
   "id": "07ac375e",
   "metadata": {},
   "source": [
    "Tip: **When you sort the data, the original table's order is not affected.** Remember from the previous lessons that **a query returns a result table. Thus, we sort the result table, not the original one.**"
   ]
  },
  {
   "cell_type": "markdown",
   "id": "0cf7b70c",
   "metadata": {},
   "source": [
    "**Ex:SELECT first_name, last_name, salary FROM employees ORDER BY salary DESC;"
   ]
  },
  {
   "cell_type": "markdown",
   "id": "9a0b76cc",
   "metadata": {},
   "source": [
    "# Sorting By Multiple Columns"
   ]
  },
  {
   "cell_type": "markdown",
   "id": "c334b068",
   "metadata": {},
   "source": [
    "**To do this, separate the columns by a comma."
   ]
  },
  {
   "cell_type": "markdown",
   "id": "28c95d05",
   "metadata": {},
   "source": [
    "**SELECT column_name(s) FROM table_name ORDER BY column1 ASC|DESC, column2 ASC|DESC, columnN ASC|DESC;"
   ]
  },
  {
   "cell_type": "markdown",
   "id": "6462f8fe",
   "metadata": {},
   "source": [
    "**SELECT * FROM employees ORDER BY gender DESC;"
   ]
  },
  {
   "cell_type": "markdown",
   "id": "6d9cc3b7",
   "metadata": {},
   "source": [
    "Ex: Suppose that we also want to sort it by **first names. "
   ]
  },
  {
   "cell_type": "markdown",
   "id": "7b252603",
   "metadata": {},
   "source": [
    "**SELECT * FROM employees ORDER BY gender DESC, first_name ASC;"
   ]
  },
  {
   "cell_type": "markdown",
   "id": "d83d56b4",
   "metadata": {},
   "source": [
    "**In the above example, we first sorted the data by gender, then we sorted by first names.*"
   ]
  },
  {
   "cell_type": "markdown",
   "id": "88d66298",
   "metadata": {},
   "source": [
    "# ORDER BY Clause with WHERE Clause"
   ]
  },
  {
   "cell_type": "markdown",
   "id": "2b5621a2",
   "metadata": {},
   "source": [
    "**SELECT column_name(s) FROM table_name WHERE condition ORDER BY column_name(s)s ASC|DESC;"
   ]
  },
  {
   "cell_type": "markdown",
   "id": "dbdcc291",
   "metadata": {},
   "source": [
    "**ORDER BY clause is placed *after the WHERE* clause. "
   ]
  },
  {
   "cell_type": "markdown",
   "id": "fd23f8aa",
   "metadata": {},
   "source": [
    "***to organize the code, not just horizontally, but also vertically.*** This is called **beautifying.**"
   ]
  },
  {
   "cell_type": "markdown",
   "id": "e9b5fb7d",
   "metadata": {},
   "source": [
    "**SELECT column_name(s)\n",
    "FROM table_name\n",
    "WHERE condition\n",
    "ORDER BY column_name(s)s ASC|DESC;"
   ]
  },
  {
   "cell_type": "code",
   "execution_count": null,
   "id": "85a28870",
   "metadata": {},
   "outputs": [],
   "source": [
    "-------------------"
   ]
  },
  {
   "cell_type": "markdown",
   "id": "f36057a5",
   "metadata": {},
   "source": [
    "Ex: Assume that we try to find the employees whose salary is higher than $80,000. Next, we will sort it by first_name in descending order. "
   ]
  },
  {
   "cell_type": "code",
   "execution_count": null,
   "id": "5a537adc",
   "metadata": {},
   "outputs": [],
   "source": [
    "SELECT *\n",
    "FROM employees\n",
    "WHERE salary > 80000\n",
    "ORDER BY first_name DESC;"
   ]
  },
  {
   "cell_type": "markdown",
   "id": "40bd94a0",
   "metadata": {},
   "source": [
    "We first returned the employees whose salary is higher than $80,000. Next, we sorted this by the first names in descending order. "
   ]
  },
  {
   "cell_type": "code",
   "execution_count": null,
   "id": "105227ae",
   "metadata": {},
   "outputs": [],
   "source": [
    "------------------"
   ]
  },
  {
   "cell_type": "markdown",
   "id": "5c4a4524",
   "metadata": {},
   "source": [
    "# Check Yourself-5"
   ]
  },
  {
   "cell_type": "code",
   "execution_count": null,
   "id": "b6e73e6a",
   "metadata": {},
   "outputs": [],
   "source": [
    "1. SELECT first name, last name, salary\n",
    "FROM employees\n",
    "WHERE salary DESC;"
   ]
  },
  {
   "cell_type": "code",
   "execution_count": null,
   "id": "cc6885ec",
   "metadata": {},
   "outputs": [],
   "source": [
    "2.SELECT * FROM employees ORDER BY gender = Female, fist_name DESC;"
   ]
  },
  {
   "cell_type": "code",
   "execution_count": null,
   "id": "9fc65813",
   "metadata": {},
   "outputs": [],
   "source": []
  }
 ],
 "metadata": {
  "kernelspec": {
   "display_name": "Python 3",
   "language": "python",
   "name": "python3"
  },
  "language_info": {
   "codemirror_mode": {
    "name": "ipython",
    "version": 3
   },
   "file_extension": ".py",
   "mimetype": "text/x-python",
   "name": "python",
   "nbconvert_exporter": "python",
   "pygments_lexer": "ipython3",
   "version": "3.8.8"
  }
 },
 "nbformat": 4,
 "nbformat_minor": 5
}
